{
 "cells": [
  {
   "cell_type": "markdown",
   "metadata": {},
   "source": [
    "# First NN App "
   ]
  },
  {
   "cell_type": "code",
   "execution_count": 1,
   "metadata": {},
   "outputs": [
    {
     "data": {
      "application/javascript": [
       "\n",
       "            setTimeout(function() {\n",
       "                var nbb_cell_id = 1;\n",
       "                var nbb_unformatted_code = \"%load_ext nb_black\";\n",
       "                var nbb_formatted_code = \"%load_ext nb_black\";\n",
       "                var nbb_cells = Jupyter.notebook.get_cells();\n",
       "                for (var i = 0; i < nbb_cells.length; ++i) {\n",
       "                    if (nbb_cells[i].input_prompt_number == nbb_cell_id) {\n",
       "                        if (nbb_cells[i].get_text() == nbb_unformatted_code) {\n",
       "                             nbb_cells[i].set_text(nbb_formatted_code);\n",
       "                        }\n",
       "                        break;\n",
       "                    }\n",
       "                }\n",
       "            }, 500);\n",
       "            "
      ],
      "text/plain": [
       "<IPython.core.display.Javascript object>"
      ]
     },
     "metadata": {},
     "output_type": "display_data"
    }
   ],
   "source": [
    "%load_ext nb_black"
   ]
  },
  {
   "cell_type": "code",
   "execution_count": 2,
   "metadata": {},
   "outputs": [
    {
     "data": {
      "application/javascript": [
       "\n",
       "            setTimeout(function() {\n",
       "                var nbb_cell_id = 2;\n",
       "                var nbb_unformatted_code = \"import cv2\\nimport numpy as np\\nimport tensorflow as tf\\nimport matplotlib.pyplot as plt\\nimport seaborn as sns\\nimport os\\nimport pandas as pd\\nfrom sklearn.model_selection import train_test_split\\nfrom tensorflow.keras.preprocessing.image import ImageDataGenerator\";\n",
       "                var nbb_formatted_code = \"import cv2\\nimport numpy as np\\nimport tensorflow as tf\\nimport matplotlib.pyplot as plt\\nimport seaborn as sns\\nimport os\\nimport pandas as pd\\nfrom sklearn.model_selection import train_test_split\\nfrom tensorflow.keras.preprocessing.image import ImageDataGenerator\";\n",
       "                var nbb_cells = Jupyter.notebook.get_cells();\n",
       "                for (var i = 0; i < nbb_cells.length; ++i) {\n",
       "                    if (nbb_cells[i].input_prompt_number == nbb_cell_id) {\n",
       "                        if (nbb_cells[i].get_text() == nbb_unformatted_code) {\n",
       "                             nbb_cells[i].set_text(nbb_formatted_code);\n",
       "                        }\n",
       "                        break;\n",
       "                    }\n",
       "                }\n",
       "            }, 500);\n",
       "            "
      ],
      "text/plain": [
       "<IPython.core.display.Javascript object>"
      ]
     },
     "metadata": {},
     "output_type": "display_data"
    }
   ],
   "source": [
    "import cv2\n",
    "import numpy as np\n",
    "import tensorflow as tf\n",
    "import matplotlib.pyplot as plt\n",
    "import seaborn as sns\n",
    "import os\n",
    "import pandas as pd\n",
    "from sklearn.model_selection import train_test_split\n",
    "from tensorflow.keras.preprocessing.image import ImageDataGenerator"
   ]
  },
  {
   "cell_type": "code",
   "execution_count": 3,
   "metadata": {},
   "outputs": [
    {
     "data": {
      "application/javascript": [
       "\n",
       "            setTimeout(function() {\n",
       "                var nbb_cell_id = 3;\n",
       "                var nbb_unformatted_code = \"train_dir = os.path.join(\\\"Input/train/\\\")\\ntrain_dir_fnames = os.listdir(train_dir)\\n# ls_files_pathes = [ train_dir + f_name for f_name in train_dir_fnames]\\n# test_dir = os.path.join('Input/test')\";\n",
       "                var nbb_formatted_code = \"train_dir = os.path.join(\\\"Input/train/\\\")\\ntrain_dir_fnames = os.listdir(train_dir)\\n# ls_files_pathes = [ train_dir + f_name for f_name in train_dir_fnames]\\n# test_dir = os.path.join('Input/test')\";\n",
       "                var nbb_cells = Jupyter.notebook.get_cells();\n",
       "                for (var i = 0; i < nbb_cells.length; ++i) {\n",
       "                    if (nbb_cells[i].input_prompt_number == nbb_cell_id) {\n",
       "                        if (nbb_cells[i].get_text() == nbb_unformatted_code) {\n",
       "                             nbb_cells[i].set_text(nbb_formatted_code);\n",
       "                        }\n",
       "                        break;\n",
       "                    }\n",
       "                }\n",
       "            }, 500);\n",
       "            "
      ],
      "text/plain": [
       "<IPython.core.display.Javascript object>"
      ]
     },
     "metadata": {},
     "output_type": "display_data"
    }
   ],
   "source": [
    "train_dir = os.path.join(\"Input/train/\")\n",
    "train_dir_fnames = os.listdir(train_dir)\n",
    "# ls_files_pathes = [ train_dir + f_name for f_name in train_dir_fnames]\n",
    "# test_dir = os.path.join('Input/test')"
   ]
  },
  {
   "cell_type": "code",
   "execution_count": 4,
   "metadata": {},
   "outputs": [
    {
     "data": {
      "application/javascript": [
       "\n",
       "            setTimeout(function() {\n",
       "                var nbb_cell_id = 4;\n",
       "                var nbb_unformatted_code = \"df_train = pd.read_csv(\\\"data/train.csv\\\")\";\n",
       "                var nbb_formatted_code = \"df_train = pd.read_csv(\\\"data/train.csv\\\")\";\n",
       "                var nbb_cells = Jupyter.notebook.get_cells();\n",
       "                for (var i = 0; i < nbb_cells.length; ++i) {\n",
       "                    if (nbb_cells[i].input_prompt_number == nbb_cell_id) {\n",
       "                        if (nbb_cells[i].get_text() == nbb_unformatted_code) {\n",
       "                             nbb_cells[i].set_text(nbb_formatted_code);\n",
       "                        }\n",
       "                        break;\n",
       "                    }\n",
       "                }\n",
       "            }, 500);\n",
       "            "
      ],
      "text/plain": [
       "<IPython.core.display.Javascript object>"
      ]
     },
     "metadata": {},
     "output_type": "display_data"
    }
   ],
   "source": [
    "df_train = pd.read_csv(\"data/train.csv\")"
   ]
  },
  {
   "cell_type": "code",
   "execution_count": 5,
   "metadata": {},
   "outputs": [
    {
     "data": {
      "text/html": [
       "<div>\n",
       "<style scoped>\n",
       "    .dataframe tbody tr th:only-of-type {\n",
       "        vertical-align: middle;\n",
       "    }\n",
       "\n",
       "    .dataframe tbody tr th {\n",
       "        vertical-align: top;\n",
       "    }\n",
       "\n",
       "    .dataframe thead th {\n",
       "        text-align: right;\n",
       "    }\n",
       "</style>\n",
       "<table border=\"1\" class=\"dataframe\">\n",
       "  <thead>\n",
       "    <tr style=\"text-align: right;\">\n",
       "      <th></th>\n",
       "      <th>id</th>\n",
       "      <th>label</th>\n",
       "    </tr>\n",
       "  </thead>\n",
       "  <tbody>\n",
       "    <tr>\n",
       "      <th>0</th>\n",
       "      <td>0</td>\n",
       "      <td>24</td>\n",
       "    </tr>\n",
       "    <tr>\n",
       "      <th>1</th>\n",
       "      <td>1</td>\n",
       "      <td>2</td>\n",
       "    </tr>\n",
       "    <tr>\n",
       "      <th>2</th>\n",
       "      <td>2</td>\n",
       "      <td>17</td>\n",
       "    </tr>\n",
       "    <tr>\n",
       "      <th>3</th>\n",
       "      <td>3</td>\n",
       "      <td>14</td>\n",
       "    </tr>\n",
       "    <tr>\n",
       "      <th>4</th>\n",
       "      <td>4</td>\n",
       "      <td>19</td>\n",
       "    </tr>\n",
       "  </tbody>\n",
       "</table>\n",
       "</div>"
      ],
      "text/plain": [
       "   id  label\n",
       "0   0     24\n",
       "1   1      2\n",
       "2   2     17\n",
       "3   3     14\n",
       "4   4     19"
      ]
     },
     "execution_count": 5,
     "metadata": {},
     "output_type": "execute_result"
    },
    {
     "data": {
      "application/javascript": [
       "\n",
       "            setTimeout(function() {\n",
       "                var nbb_cell_id = 5;\n",
       "                var nbb_unformatted_code = \"df_train.head()\";\n",
       "                var nbb_formatted_code = \"df_train.head()\";\n",
       "                var nbb_cells = Jupyter.notebook.get_cells();\n",
       "                for (var i = 0; i < nbb_cells.length; ++i) {\n",
       "                    if (nbb_cells[i].input_prompt_number == nbb_cell_id) {\n",
       "                        if (nbb_cells[i].get_text() == nbb_unformatted_code) {\n",
       "                             nbb_cells[i].set_text(nbb_formatted_code);\n",
       "                        }\n",
       "                        break;\n",
       "                    }\n",
       "                }\n",
       "            }, 500);\n",
       "            "
      ],
      "text/plain": [
       "<IPython.core.display.Javascript object>"
      ]
     },
     "metadata": {},
     "output_type": "display_data"
    }
   ],
   "source": [
    "df_train.head()"
   ]
  },
  {
   "cell_type": "code",
   "execution_count": 6,
   "metadata": {},
   "outputs": [
    {
     "data": {
      "application/javascript": [
       "\n",
       "            setTimeout(function() {\n",
       "                var nbb_cell_id = 6;\n",
       "                var nbb_unformatted_code = \"df_train[\\\"id_full\\\"] = df_train.id.apply(lambda x: f\\\"{x:05.0f}.png\\\")\\ndf_train[\\\"label\\\"] = df_train[\\\"label\\\"].astype(str)\";\n",
       "                var nbb_formatted_code = \"df_train[\\\"id_full\\\"] = df_train.id.apply(lambda x: f\\\"{x:05.0f}.png\\\")\\ndf_train[\\\"label\\\"] = df_train[\\\"label\\\"].astype(str)\";\n",
       "                var nbb_cells = Jupyter.notebook.get_cells();\n",
       "                for (var i = 0; i < nbb_cells.length; ++i) {\n",
       "                    if (nbb_cells[i].input_prompt_number == nbb_cell_id) {\n",
       "                        if (nbb_cells[i].get_text() == nbb_unformatted_code) {\n",
       "                             nbb_cells[i].set_text(nbb_formatted_code);\n",
       "                        }\n",
       "                        break;\n",
       "                    }\n",
       "                }\n",
       "            }, 500);\n",
       "            "
      ],
      "text/plain": [
       "<IPython.core.display.Javascript object>"
      ]
     },
     "metadata": {},
     "output_type": "display_data"
    }
   ],
   "source": [
    "df_train[\"id_full\"] = df_train.id.apply(lambda x: f\"{x:05.0f}.png\")\n",
    "df_train[\"label\"] = df_train[\"label\"].astype(str)"
   ]
  },
  {
   "cell_type": "code",
   "execution_count": 7,
   "metadata": {},
   "outputs": [
    {
     "data": {
      "application/javascript": [
       "\n",
       "            setTimeout(function() {\n",
       "                var nbb_cell_id = 7;\n",
       "                var nbb_unformatted_code = \"df_train[\\\"label\\\"] = df_train[\\\"label\\\"].astype(str)\";\n",
       "                var nbb_formatted_code = \"df_train[\\\"label\\\"] = df_train[\\\"label\\\"].astype(str)\";\n",
       "                var nbb_cells = Jupyter.notebook.get_cells();\n",
       "                for (var i = 0; i < nbb_cells.length; ++i) {\n",
       "                    if (nbb_cells[i].input_prompt_number == nbb_cell_id) {\n",
       "                        if (nbb_cells[i].get_text() == nbb_unformatted_code) {\n",
       "                             nbb_cells[i].set_text(nbb_formatted_code);\n",
       "                        }\n",
       "                        break;\n",
       "                    }\n",
       "                }\n",
       "            }, 500);\n",
       "            "
      ],
      "text/plain": [
       "<IPython.core.display.Javascript object>"
      ]
     },
     "metadata": {},
     "output_type": "display_data"
    }
   ],
   "source": [
    "df_train[\"label\"] = df_train[\"label\"].astype(str)"
   ]
  },
  {
   "cell_type": "code",
   "execution_count": 8,
   "metadata": {},
   "outputs": [
    {
     "data": {
      "text/html": [
       "<div>\n",
       "<style scoped>\n",
       "    .dataframe tbody tr th:only-of-type {\n",
       "        vertical-align: middle;\n",
       "    }\n",
       "\n",
       "    .dataframe tbody tr th {\n",
       "        vertical-align: top;\n",
       "    }\n",
       "\n",
       "    .dataframe thead th {\n",
       "        text-align: right;\n",
       "    }\n",
       "</style>\n",
       "<table border=\"1\" class=\"dataframe\">\n",
       "  <thead>\n",
       "    <tr style=\"text-align: right;\">\n",
       "      <th></th>\n",
       "      <th>id</th>\n",
       "      <th>label</th>\n",
       "      <th>id_full</th>\n",
       "    </tr>\n",
       "  </thead>\n",
       "  <tbody>\n",
       "    <tr>\n",
       "      <th>0</th>\n",
       "      <td>0</td>\n",
       "      <td>24</td>\n",
       "      <td>00000.png</td>\n",
       "    </tr>\n",
       "    <tr>\n",
       "      <th>1</th>\n",
       "      <td>1</td>\n",
       "      <td>2</td>\n",
       "      <td>00001.png</td>\n",
       "    </tr>\n",
       "    <tr>\n",
       "      <th>2</th>\n",
       "      <td>2</td>\n",
       "      <td>17</td>\n",
       "      <td>00002.png</td>\n",
       "    </tr>\n",
       "    <tr>\n",
       "      <th>3</th>\n",
       "      <td>3</td>\n",
       "      <td>14</td>\n",
       "      <td>00003.png</td>\n",
       "    </tr>\n",
       "    <tr>\n",
       "      <th>4</th>\n",
       "      <td>4</td>\n",
       "      <td>19</td>\n",
       "      <td>00004.png</td>\n",
       "    </tr>\n",
       "  </tbody>\n",
       "</table>\n",
       "</div>"
      ],
      "text/plain": [
       "   id label    id_full\n",
       "0   0    24  00000.png\n",
       "1   1     2  00001.png\n",
       "2   2    17  00002.png\n",
       "3   3    14  00003.png\n",
       "4   4    19  00004.png"
      ]
     },
     "execution_count": 8,
     "metadata": {},
     "output_type": "execute_result"
    },
    {
     "data": {
      "application/javascript": [
       "\n",
       "            setTimeout(function() {\n",
       "                var nbb_cell_id = 8;\n",
       "                var nbb_unformatted_code = \"df_train.head()\";\n",
       "                var nbb_formatted_code = \"df_train.head()\";\n",
       "                var nbb_cells = Jupyter.notebook.get_cells();\n",
       "                for (var i = 0; i < nbb_cells.length; ++i) {\n",
       "                    if (nbb_cells[i].input_prompt_number == nbb_cell_id) {\n",
       "                        if (nbb_cells[i].get_text() == nbb_unformatted_code) {\n",
       "                             nbb_cells[i].set_text(nbb_formatted_code);\n",
       "                        }\n",
       "                        break;\n",
       "                    }\n",
       "                }\n",
       "            }, 500);\n",
       "            "
      ],
      "text/plain": [
       "<IPython.core.display.Javascript object>"
      ]
     },
     "metadata": {},
     "output_type": "display_data"
    }
   ],
   "source": [
    "df_train.head()"
   ]
  },
  {
   "cell_type": "code",
   "execution_count": null,
   "metadata": {},
   "outputs": [],
   "source": []
  },
  {
   "cell_type": "code",
   "execution_count": 9,
   "metadata": {},
   "outputs": [
    {
     "data": {
      "application/javascript": [
       "\n",
       "            setTimeout(function() {\n",
       "                var nbb_cell_id = 9;\n",
       "                var nbb_unformatted_code = \"# df_train_splitter, df_valid_splitted = train_test_split(\\n#     df_train, test_size=0.1, random_state=0\\n# )\";\n",
       "                var nbb_formatted_code = \"# df_train_splitter, df_valid_splitted = train_test_split(\\n#     df_train, test_size=0.1, random_state=0\\n# )\";\n",
       "                var nbb_cells = Jupyter.notebook.get_cells();\n",
       "                for (var i = 0; i < nbb_cells.length; ++i) {\n",
       "                    if (nbb_cells[i].input_prompt_number == nbb_cell_id) {\n",
       "                        if (nbb_cells[i].get_text() == nbb_unformatted_code) {\n",
       "                             nbb_cells[i].set_text(nbb_formatted_code);\n",
       "                        }\n",
       "                        break;\n",
       "                    }\n",
       "                }\n",
       "            }, 500);\n",
       "            "
      ],
      "text/plain": [
       "<IPython.core.display.Javascript object>"
      ]
     },
     "metadata": {},
     "output_type": "display_data"
    }
   ],
   "source": [
    "# df_train_splitter, df_valid_splitted = train_test_split(\n",
    "#     df_train, test_size=0.1, random_state=0\n",
    "# )"
   ]
  },
  {
   "cell_type": "markdown",
   "metadata": {},
   "source": [
    "# Image Preprocessing"
   ]
  },
  {
   "cell_type": "code",
   "execution_count": 10,
   "metadata": {
    "code_folding": []
   },
   "outputs": [
    {
     "data": {
      "application/javascript": [
       "\n",
       "            setTimeout(function() {\n",
       "                var nbb_cell_id = 10;\n",
       "                var nbb_unformatted_code = \"# train_df, validate_df = train_test_split(df_train, test_size=0.2, random_state=42)\\n# # train_df = train_df.reset_index(drop=True)\\n# # validate_df = validate_df.reset_index(drop=True)\\n\\n# train_datagen = ImageDataGenerator(\\n#     rotation_range=15,\\n#     rescale=1.0 / 255,\\n#     shear_range=0.2,\\n#     zoom_range=0.2,\\n#     #     horizontal_flip=True,\\n#     width_shift_range=0.2,\\n#     height_shift_range=0.2,\\n# )\\n# train_generator = train_datagen.flow_from_dataframe(\\n#     train_df,\\n#     train_dir,\\n#     x_col=\\\"id_full\\\",\\n#     y_col=\\\"label\\\",\\n#     target_size=(32, 32),\\n#     class_mode=\\\"categorical\\\",\\n#     batch_size=32,\\n# )\\n\\n\\n# valid_datagen = ImageDataGenerator(rescale=1.0 / 255)\\n# valid_generator = valid_datagen.flow_from_dataframe(\\n#     validate_df,\\n#     train_dir,\\n#     x_col=\\\"id_full\\\",\\n#     y_col=\\\"label\\\",\\n#     target_size=(32, 32),\\n#     class_mode=\\\"categorical\\\",\\n#     batch_size=len(validate_df),\\n# )\";\n",
       "                var nbb_formatted_code = \"# train_df, validate_df = train_test_split(df_train, test_size=0.2, random_state=42)\\n# # train_df = train_df.reset_index(drop=True)\\n# # validate_df = validate_df.reset_index(drop=True)\\n\\n# train_datagen = ImageDataGenerator(\\n#     rotation_range=15,\\n#     rescale=1.0 / 255,\\n#     shear_range=0.2,\\n#     zoom_range=0.2,\\n#     #     horizontal_flip=True,\\n#     width_shift_range=0.2,\\n#     height_shift_range=0.2,\\n# )\\n# train_generator = train_datagen.flow_from_dataframe(\\n#     train_df,\\n#     train_dir,\\n#     x_col=\\\"id_full\\\",\\n#     y_col=\\\"label\\\",\\n#     target_size=(32, 32),\\n#     class_mode=\\\"categorical\\\",\\n#     batch_size=32,\\n# )\\n\\n\\n# valid_datagen = ImageDataGenerator(rescale=1.0 / 255)\\n# valid_generator = valid_datagen.flow_from_dataframe(\\n#     validate_df,\\n#     train_dir,\\n#     x_col=\\\"id_full\\\",\\n#     y_col=\\\"label\\\",\\n#     target_size=(32, 32),\\n#     class_mode=\\\"categorical\\\",\\n#     batch_size=len(validate_df),\\n# )\";\n",
       "                var nbb_cells = Jupyter.notebook.get_cells();\n",
       "                for (var i = 0; i < nbb_cells.length; ++i) {\n",
       "                    if (nbb_cells[i].input_prompt_number == nbb_cell_id) {\n",
       "                        if (nbb_cells[i].get_text() == nbb_unformatted_code) {\n",
       "                             nbb_cells[i].set_text(nbb_formatted_code);\n",
       "                        }\n",
       "                        break;\n",
       "                    }\n",
       "                }\n",
       "            }, 500);\n",
       "            "
      ],
      "text/plain": [
       "<IPython.core.display.Javascript object>"
      ]
     },
     "metadata": {},
     "output_type": "display_data"
    }
   ],
   "source": [
    "# train_df, validate_df = train_test_split(df_train, test_size=0.2, random_state=42)\n",
    "# # train_df = train_df.reset_index(drop=True)\n",
    "# # validate_df = validate_df.reset_index(drop=True)\n",
    "\n",
    "# train_datagen = ImageDataGenerator(\n",
    "#     rotation_range=15,\n",
    "#     rescale=1.0 / 255,\n",
    "#     shear_range=0.2,\n",
    "#     zoom_range=0.2,\n",
    "#     #     horizontal_flip=True,\n",
    "#     width_shift_range=0.2,\n",
    "#     height_shift_range=0.2,\n",
    "# )\n",
    "# train_generator = train_datagen.flow_from_dataframe(\n",
    "#     train_df,\n",
    "#     train_dir,\n",
    "#     x_col=\"id_full\",\n",
    "#     y_col=\"label\",\n",
    "#     target_size=(32, 32),\n",
    "#     class_mode=\"categorical\",\n",
    "#     batch_size=32,\n",
    "# )\n",
    "\n",
    "\n",
    "# valid_datagen = ImageDataGenerator(rescale=1.0 / 255)\n",
    "# valid_generator = valid_datagen.flow_from_dataframe(\n",
    "#     validate_df,\n",
    "#     train_dir,\n",
    "#     x_col=\"id_full\",\n",
    "#     y_col=\"label\",\n",
    "#     target_size=(32, 32),\n",
    "#     class_mode=\"categorical\",\n",
    "#     batch_size=len(validate_df),\n",
    "# )"
   ]
  },
  {
   "cell_type": "code",
   "execution_count": 21,
   "metadata": {
    "code_folding": []
   },
   "outputs": [
    {
     "name": "stdout",
     "output_type": "stream",
     "text": [
      "Found 10752 validated image filenames belonging to 28 classes.\n",
      "Found 2688 validated image filenames belonging to 28 classes.\n"
     ]
    },
    {
     "data": {
      "application/javascript": [
       "\n",
       "            setTimeout(function() {\n",
       "                var nbb_cell_id = 21;\n",
       "                var nbb_unformatted_code = \"train_df, validate_df = train_test_split(df_train, test_size=0.2, random_state=42)\\n# train_df = train_df.reset_index(drop=True)\\n# validate_df = validate_df.reset_index(drop=True)\\n\\ntrain_datagen = ImageDataGenerator(\\n    rotation_range=10,\\n    rescale=1.0 / 255,\\n    shear_range=0.1,\\n    zoom_range=0.2,\\n    #horizontal_flip=True,\\n    width_shift_range=0.1,\\n    height_shift_range=0.1,\\n    fill_mode=\\\"nearest\\\",\\n)\\ntrain_generator = train_datagen.flow_from_dataframe(\\n    train_df,\\n    train_dir,\\n    x_col=\\\"id_full\\\",\\n    y_col=\\\"label\\\",\\n    target_size=(32, 32),\\n    class_mode=\\\"categorical\\\",\\n    batch_size=32,\\n)\\n\\n\\nvalid_datagen = ImageDataGenerator(rescale=1.0 / 255)\\nvalid_generator = valid_datagen.flow_from_dataframe(\\n    validate_df,\\n    train_dir,\\n    x_col=\\\"id_full\\\",\\n    y_col=\\\"label\\\",\\n    target_size=(32, 32),\\n    class_mode=\\\"categorical\\\",\\n    batch_size=len(validate_df),\\n)\";\n",
       "                var nbb_formatted_code = \"train_df, validate_df = train_test_split(df_train, test_size=0.2, random_state=42)\\n# train_df = train_df.reset_index(drop=True)\\n# validate_df = validate_df.reset_index(drop=True)\\n\\ntrain_datagen = ImageDataGenerator(\\n    rotation_range=10,\\n    rescale=1.0 / 255,\\n    shear_range=0.1,\\n    zoom_range=0.2,\\n    # horizontal_flip=True,\\n    width_shift_range=0.1,\\n    height_shift_range=0.1,\\n    fill_mode=\\\"nearest\\\",\\n)\\ntrain_generator = train_datagen.flow_from_dataframe(\\n    train_df,\\n    train_dir,\\n    x_col=\\\"id_full\\\",\\n    y_col=\\\"label\\\",\\n    target_size=(32, 32),\\n    class_mode=\\\"categorical\\\",\\n    batch_size=32,\\n)\\n\\n\\nvalid_datagen = ImageDataGenerator(rescale=1.0 / 255)\\nvalid_generator = valid_datagen.flow_from_dataframe(\\n    validate_df,\\n    train_dir,\\n    x_col=\\\"id_full\\\",\\n    y_col=\\\"label\\\",\\n    target_size=(32, 32),\\n    class_mode=\\\"categorical\\\",\\n    batch_size=len(validate_df),\\n)\";\n",
       "                var nbb_cells = Jupyter.notebook.get_cells();\n",
       "                for (var i = 0; i < nbb_cells.length; ++i) {\n",
       "                    if (nbb_cells[i].input_prompt_number == nbb_cell_id) {\n",
       "                        if (nbb_cells[i].get_text() == nbb_unformatted_code) {\n",
       "                             nbb_cells[i].set_text(nbb_formatted_code);\n",
       "                        }\n",
       "                        break;\n",
       "                    }\n",
       "                }\n",
       "            }, 500);\n",
       "            "
      ],
      "text/plain": [
       "<IPython.core.display.Javascript object>"
      ]
     },
     "metadata": {},
     "output_type": "display_data"
    }
   ],
   "source": [
    "train_df, validate_df = train_test_split(df_train, test_size=0.2, random_state=42)\n",
    "# train_df = train_df.reset_index(drop=True)\n",
    "# validate_df = validate_df.reset_index(drop=True)\n",
    "\n",
    "train_datagen = ImageDataGenerator(\n",
    "    rotation_range=10,\n",
    "    rescale=1.0 / 255,\n",
    "    shear_range=0.1,\n",
    "    zoom_range=0.2,\n",
    "    # horizontal_flip=True,\n",
    "    width_shift_range=0.1,\n",
    "    height_shift_range=0.1,\n",
    "    fill_mode=\"nearest\",\n",
    ")\n",
    "train_generator = train_datagen.flow_from_dataframe(\n",
    "    train_df,\n",
    "    train_dir,\n",
    "    x_col=\"id_full\",\n",
    "    y_col=\"label\",\n",
    "    target_size=(32, 32),\n",
    "    class_mode=\"categorical\",\n",
    "    batch_size=32,\n",
    ")\n",
    "\n",
    "\n",
    "valid_datagen = ImageDataGenerator(rescale=1.0 / 255)\n",
    "valid_generator = valid_datagen.flow_from_dataframe(\n",
    "    validate_df,\n",
    "    train_dir,\n",
    "    x_col=\"id_full\",\n",
    "    y_col=\"label\",\n",
    "    target_size=(32, 32),\n",
    "    class_mode=\"categorical\",\n",
    "    batch_size=len(validate_df),\n",
    ")"
   ]
  },
  {
   "cell_type": "code",
   "execution_count": 22,
   "metadata": {
    "scrolled": true
   },
   "outputs": [
    {
     "data": {
      "application/javascript": [
       "\n",
       "            setTimeout(function() {\n",
       "                var nbb_cell_id = 22;\n",
       "                var nbb_unformatted_code = \"# x, y = train_generator.next()\\n# for x, y in zip(x, y):\\n#     plt.imshow(x)\\n#     plt.show()\\n#     print(list(y).index(1))\";\n",
       "                var nbb_formatted_code = \"# x, y = train_generator.next()\\n# for x, y in zip(x, y):\\n#     plt.imshow(x)\\n#     plt.show()\\n#     print(list(y).index(1))\";\n",
       "                var nbb_cells = Jupyter.notebook.get_cells();\n",
       "                for (var i = 0; i < nbb_cells.length; ++i) {\n",
       "                    if (nbb_cells[i].input_prompt_number == nbb_cell_id) {\n",
       "                        if (nbb_cells[i].get_text() == nbb_unformatted_code) {\n",
       "                             nbb_cells[i].set_text(nbb_formatted_code);\n",
       "                        }\n",
       "                        break;\n",
       "                    }\n",
       "                }\n",
       "            }, 500);\n",
       "            "
      ],
      "text/plain": [
       "<IPython.core.display.Javascript object>"
      ]
     },
     "metadata": {},
     "output_type": "display_data"
    }
   ],
   "source": [
    "# x, y = train_generator.next()\n",
    "# for x, y in zip(x, y):\n",
    "#     plt.imshow(x)\n",
    "#     plt.show()\n",
    "#     print(list(y).index(1))"
   ]
  },
  {
   "cell_type": "code",
   "execution_count": 23,
   "metadata": {},
   "outputs": [
    {
     "data": {
      "application/javascript": [
       "\n",
       "            setTimeout(function() {\n",
       "                var nbb_cell_id = 23;\n",
       "                var nbb_unformatted_code = \"# train_generator\\n# valid_generator\";\n",
       "                var nbb_formatted_code = \"# train_generator\\n# valid_generator\";\n",
       "                var nbb_cells = Jupyter.notebook.get_cells();\n",
       "                for (var i = 0; i < nbb_cells.length; ++i) {\n",
       "                    if (nbb_cells[i].input_prompt_number == nbb_cell_id) {\n",
       "                        if (nbb_cells[i].get_text() == nbb_unformatted_code) {\n",
       "                             nbb_cells[i].set_text(nbb_formatted_code);\n",
       "                        }\n",
       "                        break;\n",
       "                    }\n",
       "                }\n",
       "            }, 500);\n",
       "            "
      ],
      "text/plain": [
       "<IPython.core.display.Javascript object>"
      ]
     },
     "metadata": {},
     "output_type": "display_data"
    }
   ],
   "source": [
    "# train_generator\n",
    "# valid_generator"
   ]
  },
  {
   "cell_type": "code",
   "execution_count": 29,
   "metadata": {},
   "outputs": [
    {
     "data": {
      "text/plain": [
       "36.0"
      ]
     },
     "execution_count": 29,
     "metadata": {},
     "output_type": "execute_result"
    },
    {
     "data": {
      "application/javascript": [
       "\n",
       "            setTimeout(function() {\n",
       "                var nbb_cell_id = 29;\n",
       "                var nbb_unformatted_code = \"72 /2\";\n",
       "                var nbb_formatted_code = \"72 / 2\";\n",
       "                var nbb_cells = Jupyter.notebook.get_cells();\n",
       "                for (var i = 0; i < nbb_cells.length; ++i) {\n",
       "                    if (nbb_cells[i].input_prompt_number == nbb_cell_id) {\n",
       "                        if (nbb_cells[i].get_text() == nbb_unformatted_code) {\n",
       "                             nbb_cells[i].set_text(nbb_formatted_code);\n",
       "                        }\n",
       "                        break;\n",
       "                    }\n",
       "                }\n",
       "            }, 500);\n",
       "            "
      ],
      "text/plain": [
       "<IPython.core.display.Javascript object>"
      ]
     },
     "metadata": {},
     "output_type": "display_data"
    }
   ],
   "source": []
  },
  {
   "cell_type": "code",
   "execution_count": 42,
   "metadata": {
    "code_folding": []
   },
   "outputs": [
    {
     "data": {
      "application/javascript": [
       "\n",
       "            setTimeout(function() {\n",
       "                var nbb_cell_id = 42;\n",
       "                var nbb_unformatted_code = \"model = tf.keras.models.Sequential(\\n    [\\n        tf.keras.layers.Conv2D(filters=32, kernel_size=3, activation=\\\"relu\\\", input_shape=(32, 32, 3)),\\n        tf.keras.layers.MaxPooling2D(pool_size=1),\\n        tf.keras.layers.Conv2D(filters=64, kernel_size=3, activation=\\\"relu\\\"),\\n        tf.keras.layers.MaxPooling2D(pool_size=2),\\n        tf.keras.layers.Conv2D(filters=128, kernel_size=3, activation=\\\"relu\\\"),\\n        tf.keras.layers.MaxPooling2D(pool_size=2),\\n        tf.keras.layers.Conv2D(filters=265, kernel_size=3, activation=\\\"relu\\\"),\\n        tf.keras.layers.MaxPooling2D(pool_size=2),\\n        # tf.keras.layers.GlobalAveragePooling2D(),\\n        # tf.keras.layers.BatchNormalization(),\\n        tf.keras.layers.Flatten(),\\n        tf.keras.layers.Dense(72),\\n        tf.keras.layers.Dense(28, activation=\\\"softmax\\\")\\n        #         tf.keras.layers.Conv2D(filters=16, kernel_size=3, activation=\\\"relu\\\", input_shape=(32, 32, 3)),\\n        #         tf.keras.layers.MaxPooling2D(pool_size=2),\\n        #         tf.keras.layers.Conv2D(filters=32, kernel_size=3, activation=\\\"relu\\\"),\\n        #         tf.keras.layers.MaxPooling2D(pool_size=2),\\n        #         tf.keras.layers.Conv2D(filters=64, kernel_size=3, activation=\\\"relu\\\"),\\n        #         tf.keras.layers.MaxPooling2D(pool_size=2),\\n        #         tf.keras.layers.GlobalAveragePooling2D(),\\n        #         tf.keras.layers.Dense(28, activation=\\\"softmax\\\"),\\n    ]\\n)\";\n",
       "                var nbb_formatted_code = \"model = tf.keras.models.Sequential(\\n    [\\n        tf.keras.layers.Conv2D(\\n            filters=32, kernel_size=3, activation=\\\"relu\\\", input_shape=(32, 32, 3)\\n        ),\\n        tf.keras.layers.MaxPooling2D(pool_size=1),\\n        tf.keras.layers.Conv2D(filters=64, kernel_size=3, activation=\\\"relu\\\"),\\n        tf.keras.layers.MaxPooling2D(pool_size=2),\\n        tf.keras.layers.Conv2D(filters=128, kernel_size=3, activation=\\\"relu\\\"),\\n        tf.keras.layers.MaxPooling2D(pool_size=2),\\n        tf.keras.layers.Conv2D(filters=265, kernel_size=3, activation=\\\"relu\\\"),\\n        tf.keras.layers.MaxPooling2D(pool_size=2),\\n        # tf.keras.layers.GlobalAveragePooling2D(),\\n        # tf.keras.layers.BatchNormalization(),\\n        tf.keras.layers.Flatten(),\\n        tf.keras.layers.Dense(72),\\n        tf.keras.layers.Dense(28, activation=\\\"softmax\\\")\\n        #         tf.keras.layers.Conv2D(filters=16, kernel_size=3, activation=\\\"relu\\\", input_shape=(32, 32, 3)),\\n        #         tf.keras.layers.MaxPooling2D(pool_size=2),\\n        #         tf.keras.layers.Conv2D(filters=32, kernel_size=3, activation=\\\"relu\\\"),\\n        #         tf.keras.layers.MaxPooling2D(pool_size=2),\\n        #         tf.keras.layers.Conv2D(filters=64, kernel_size=3, activation=\\\"relu\\\"),\\n        #         tf.keras.layers.MaxPooling2D(pool_size=2),\\n        #         tf.keras.layers.GlobalAveragePooling2D(),\\n        #         tf.keras.layers.Dense(28, activation=\\\"softmax\\\"),\\n    ]\\n)\";\n",
       "                var nbb_cells = Jupyter.notebook.get_cells();\n",
       "                for (var i = 0; i < nbb_cells.length; ++i) {\n",
       "                    if (nbb_cells[i].input_prompt_number == nbb_cell_id) {\n",
       "                        if (nbb_cells[i].get_text() == nbb_unformatted_code) {\n",
       "                             nbb_cells[i].set_text(nbb_formatted_code);\n",
       "                        }\n",
       "                        break;\n",
       "                    }\n",
       "                }\n",
       "            }, 500);\n",
       "            "
      ],
      "text/plain": [
       "<IPython.core.display.Javascript object>"
      ]
     },
     "metadata": {},
     "output_type": "display_data"
    }
   ],
   "source": [
    "model = tf.keras.models.Sequential(\n",
    "    [\n",
    "        tf.keras.layers.Conv2D(\n",
    "            filters=32, kernel_size=3, activation=\"relu\", input_shape=(32, 32, 3)\n",
    "        ),\n",
    "        tf.keras.layers.MaxPooling2D(pool_size=1),\n",
    "        tf.keras.layers.Conv2D(filters=64, kernel_size=3, activation=\"relu\"),\n",
    "        tf.keras.layers.MaxPooling2D(pool_size=2),\n",
    "        tf.keras.layers.Conv2D(filters=128, kernel_size=3, activation=\"relu\"),\n",
    "        tf.keras.layers.MaxPooling2D(pool_size=2),\n",
    "        tf.keras.layers.Conv2D(filters=265, kernel_size=3, activation=\"relu\"),\n",
    "        tf.keras.layers.MaxPooling2D(pool_size=2),\n",
    "        # tf.keras.layers.GlobalAveragePooling2D(),\n",
    "        # tf.keras.layers.BatchNormalization(),\n",
    "        tf.keras.layers.Flatten(),\n",
    "        tf.keras.layers.Dense(72),\n",
    "        tf.keras.layers.Dense(28, activation=\"softmax\")\n",
    "        #         tf.keras.layers.Conv2D(filters=16, kernel_size=3, activation=\"relu\", input_shape=(32, 32, 3)),\n",
    "        #         tf.keras.layers.MaxPooling2D(pool_size=2),\n",
    "        #         tf.keras.layers.Conv2D(filters=32, kernel_size=3, activation=\"relu\"),\n",
    "        #         tf.keras.layers.MaxPooling2D(pool_size=2),\n",
    "        #         tf.keras.layers.Conv2D(filters=64, kernel_size=3, activation=\"relu\"),\n",
    "        #         tf.keras.layers.MaxPooling2D(pool_size=2),\n",
    "        #         tf.keras.layers.GlobalAveragePooling2D(),\n",
    "        #         tf.keras.layers.Dense(28, activation=\"softmax\"),\n",
    "    ]\n",
    ")"
   ]
  },
  {
   "cell_type": "code",
   "execution_count": 43,
   "metadata": {},
   "outputs": [
    {
     "data": {
      "application/javascript": [
       "\n",
       "            setTimeout(function() {\n",
       "                var nbb_cell_id = 43;\n",
       "                var nbb_unformatted_code = \"model.compile(loss=\\\"categorical_crossentropy\\\", optimizer=\\\"adam\\\", metrics=[\\\"accuracy\\\"])\\nearly_stopp = tf.keras.callbacks.EarlyStopping(patience=10, restore_best_weights=True)\";\n",
       "                var nbb_formatted_code = \"model.compile(loss=\\\"categorical_crossentropy\\\", optimizer=\\\"adam\\\", metrics=[\\\"accuracy\\\"])\\nearly_stopp = tf.keras.callbacks.EarlyStopping(patience=10, restore_best_weights=True)\";\n",
       "                var nbb_cells = Jupyter.notebook.get_cells();\n",
       "                for (var i = 0; i < nbb_cells.length; ++i) {\n",
       "                    if (nbb_cells[i].input_prompt_number == nbb_cell_id) {\n",
       "                        if (nbb_cells[i].get_text() == nbb_unformatted_code) {\n",
       "                             nbb_cells[i].set_text(nbb_formatted_code);\n",
       "                        }\n",
       "                        break;\n",
       "                    }\n",
       "                }\n",
       "            }, 500);\n",
       "            "
      ],
      "text/plain": [
       "<IPython.core.display.Javascript object>"
      ]
     },
     "metadata": {},
     "output_type": "display_data"
    }
   ],
   "source": [
    "model.compile(loss=\"categorical_crossentropy\", optimizer=\"adam\", metrics=[\"accuracy\"])\n",
    "early_stopp = tf.keras.callbacks.EarlyStopping(patience=10, restore_best_weights=True)"
   ]
  },
  {
   "cell_type": "markdown",
   "metadata": {},
   "source": [
    "# Further, you can improve the accuracy by playing with the hyperparameters like \n",
    "+ the optimizer \n",
    "+ the number of dense layers\n",
    "+ number of neurons in each layer"
   ]
  },
  {
   "cell_type": "code",
   "execution_count": 44,
   "metadata": {},
   "outputs": [
    {
     "name": "stdout",
     "output_type": "stream",
     "text": [
      "Epoch 1/100\n",
      "336/336 [==============================] - 19s 54ms/step - loss: 1.8764 - accuracy: 0.4149 - val_loss: 0.6993 - val_accuracy: 0.7444\n",
      "Epoch 2/100\n",
      "336/336 [==============================] - 17s 52ms/step - loss: 0.7405 - accuracy: 0.7572 - val_loss: 0.4343 - val_accuracy: 0.8475\n",
      "Epoch 3/100\n",
      "336/336 [==============================] - 18s 54ms/step - loss: 0.4927 - accuracy: 0.8417 - val_loss: 0.2343 - val_accuracy: 0.9249\n",
      "Epoch 4/100\n",
      "336/336 [==============================] - 18s 55ms/step - loss: 0.3815 - accuracy: 0.8745 - val_loss: 0.2478 - val_accuracy: 0.9226\n",
      "Epoch 5/100\n",
      "336/336 [==============================] - 18s 55ms/step - loss: 0.3139 - accuracy: 0.8963 - val_loss: 0.1845 - val_accuracy: 0.9423\n",
      "Epoch 6/100\n",
      "336/336 [==============================] - 19s 56ms/step - loss: 0.2745 - accuracy: 0.9092 - val_loss: 0.1543 - val_accuracy: 0.9520\n",
      "Epoch 7/100\n",
      "336/336 [==============================] - 19s 56ms/step - loss: 0.2362 - accuracy: 0.9231 - val_loss: 0.1500 - val_accuracy: 0.9568\n",
      "Epoch 8/100\n",
      "336/336 [==============================] - 19s 56ms/step - loss: 0.2241 - accuracy: 0.9254 - val_loss: 0.1264 - val_accuracy: 0.9602\n",
      "Epoch 9/100\n",
      "336/336 [==============================] - 19s 56ms/step - loss: 0.2055 - accuracy: 0.9327 - val_loss: 0.1536 - val_accuracy: 0.9535\n",
      "Epoch 10/100\n",
      "336/336 [==============================] - 19s 56ms/step - loss: 0.1934 - accuracy: 0.9356 - val_loss: 0.1482 - val_accuracy: 0.9501\n",
      "Epoch 11/100\n",
      "336/336 [==============================] - 19s 56ms/step - loss: 0.1749 - accuracy: 0.9419 - val_loss: 0.1068 - val_accuracy: 0.9699\n",
      "Epoch 12/100\n",
      "336/336 [==============================] - 19s 57ms/step - loss: 0.1624 - accuracy: 0.9474 - val_loss: 0.1069 - val_accuracy: 0.9673\n",
      "Epoch 13/100\n",
      "336/336 [==============================] - 19s 56ms/step - loss: 0.1547 - accuracy: 0.9512 - val_loss: 0.1141 - val_accuracy: 0.9688\n",
      "Epoch 14/100\n",
      "336/336 [==============================] - 19s 57ms/step - loss: 0.1565 - accuracy: 0.9494 - val_loss: 0.1051 - val_accuracy: 0.9710\n",
      "Epoch 15/100\n",
      "336/336 [==============================] - 19s 57ms/step - loss: 0.1383 - accuracy: 0.9571 - val_loss: 0.0979 - val_accuracy: 0.9714\n",
      "Epoch 16/100\n",
      "336/336 [==============================] - 19s 57ms/step - loss: 0.1345 - accuracy: 0.9565 - val_loss: 0.1055 - val_accuracy: 0.9688\n",
      "Epoch 17/100\n",
      "336/336 [==============================] - 19s 57ms/step - loss: 0.1405 - accuracy: 0.9546 - val_loss: 0.0941 - val_accuracy: 0.9714\n",
      "Epoch 18/100\n",
      "336/336 [==============================] - 19s 57ms/step - loss: 0.1238 - accuracy: 0.9591 - val_loss: 0.1059 - val_accuracy: 0.9695\n",
      "Epoch 19/100\n",
      "336/336 [==============================] - 19s 57ms/step - loss: 0.1255 - accuracy: 0.9586 - val_loss: 0.0975 - val_accuracy: 0.9676\n",
      "Epoch 20/100\n",
      "336/336 [==============================] - 19s 57ms/step - loss: 0.1204 - accuracy: 0.9594 - val_loss: 0.0930 - val_accuracy: 0.9751\n",
      "Epoch 21/100\n",
      "336/336 [==============================] - 19s 58ms/step - loss: 0.1151 - accuracy: 0.9621 - val_loss: 0.1020 - val_accuracy: 0.9725\n",
      "Epoch 22/100\n",
      "336/336 [==============================] - 19s 58ms/step - loss: 0.1080 - accuracy: 0.9654 - val_loss: 0.0983 - val_accuracy: 0.9673\n",
      "Epoch 23/100\n",
      "336/336 [==============================] - 19s 58ms/step - loss: 0.1104 - accuracy: 0.9629 - val_loss: 0.1179 - val_accuracy: 0.9676\n",
      "Epoch 24/100\n",
      "336/336 [==============================] - 20s 58ms/step - loss: 0.1034 - accuracy: 0.9678 - val_loss: 0.1206 - val_accuracy: 0.9594\n",
      "Epoch 25/100\n",
      "336/336 [==============================] - 20s 58ms/step - loss: 0.1012 - accuracy: 0.9675 - val_loss: 0.0956 - val_accuracy: 0.9747\n",
      "Epoch 26/100\n",
      "336/336 [==============================] - 19s 58ms/step - loss: 0.1044 - accuracy: 0.9648 - val_loss: 0.1175 - val_accuracy: 0.9639\n",
      "Epoch 27/100\n",
      "336/336 [==============================] - 20s 59ms/step - loss: 0.0979 - accuracy: 0.9705 - val_loss: 0.1141 - val_accuracy: 0.9676\n",
      "Epoch 28/100\n",
      "336/336 [==============================] - 20s 58ms/step - loss: 0.0976 - accuracy: 0.9686 - val_loss: 0.0966 - val_accuracy: 0.9680\n",
      "Epoch 29/100\n",
      "336/336 [==============================] - 20s 59ms/step - loss: 0.0924 - accuracy: 0.9714 - val_loss: 0.0791 - val_accuracy: 0.9784\n",
      "Epoch 30/100\n",
      "336/336 [==============================] - 20s 59ms/step - loss: 0.0929 - accuracy: 0.9724 - val_loss: 0.0946 - val_accuracy: 0.9676\n",
      "Epoch 31/100\n",
      "336/336 [==============================] - 20s 61ms/step - loss: 0.0942 - accuracy: 0.9706 - val_loss: 0.0804 - val_accuracy: 0.9769\n",
      "Epoch 32/100\n",
      "336/336 [==============================] - 20s 59ms/step - loss: 0.0839 - accuracy: 0.9730 - val_loss: 0.0974 - val_accuracy: 0.9743\n",
      "Epoch 33/100\n",
      "336/336 [==============================] - 20s 59ms/step - loss: 0.0837 - accuracy: 0.9722 - val_loss: 0.1002 - val_accuracy: 0.9725\n",
      "Epoch 34/100\n",
      "336/336 [==============================] - 19s 57ms/step - loss: 0.0861 - accuracy: 0.9725 - val_loss: 0.0794 - val_accuracy: 0.9799\n",
      "Epoch 35/100\n",
      "336/336 [==============================] - 19s 57ms/step - loss: 0.0795 - accuracy: 0.9747 - val_loss: 0.1022 - val_accuracy: 0.9732\n",
      "Epoch 36/100\n",
      "336/336 [==============================] - 20s 58ms/step - loss: 0.0825 - accuracy: 0.9751 - val_loss: 0.0776 - val_accuracy: 0.9777\n",
      "Epoch 37/100\n",
      "336/336 [==============================] - 20s 58ms/step - loss: 0.0779 - accuracy: 0.9750 - val_loss: 0.0956 - val_accuracy: 0.9766\n",
      "Epoch 38/100\n",
      "336/336 [==============================] - 20s 59ms/step - loss: 0.0834 - accuracy: 0.9716 - val_loss: 0.1179 - val_accuracy: 0.9665\n",
      "Epoch 39/100\n",
      "336/336 [==============================] - 20s 60ms/step - loss: 0.0736 - accuracy: 0.9770 - val_loss: 0.0914 - val_accuracy: 0.9758\n",
      "Epoch 40/100\n",
      "336/336 [==============================] - 21s 63ms/step - loss: 0.0791 - accuracy: 0.9760 - val_loss: 0.0812 - val_accuracy: 0.9792\n",
      "Epoch 41/100\n",
      "336/336 [==============================] - 21s 64ms/step - loss: 0.0801 - accuracy: 0.9743 - val_loss: 0.0921 - val_accuracy: 0.9743\n",
      "Epoch 42/100\n",
      "336/336 [==============================] - 21s 63ms/step - loss: 0.0745 - accuracy: 0.9749 - val_loss: 0.1092 - val_accuracy: 0.9747\n",
      "Epoch 43/100\n",
      "336/336 [==============================] - 22s 67ms/step - loss: 0.0769 - accuracy: 0.9759 - val_loss: 0.0978 - val_accuracy: 0.9766\n",
      "Epoch 44/100\n",
      "336/336 [==============================] - 20s 60ms/step - loss: 0.0687 - accuracy: 0.9775 - val_loss: 0.0927 - val_accuracy: 0.9799\n",
      "Epoch 45/100\n",
      "336/336 [==============================] - 20s 59ms/step - loss: 0.0647 - accuracy: 0.9804 - val_loss: 0.0901 - val_accuracy: 0.9773\n",
      "Epoch 46/100\n",
      "336/336 [==============================] - 20s 61ms/step - loss: 0.0632 - accuracy: 0.9786 - val_loss: 0.1284 - val_accuracy: 0.9758\n"
     ]
    },
    {
     "data": {
      "application/javascript": [
       "\n",
       "            setTimeout(function() {\n",
       "                var nbb_cell_id = 44;\n",
       "                var nbb_unformatted_code = \"history = model.fit(\\n    train_generator,\\n    validation_data=valid_generator,\\n    epochs=100,\\n    callbacks=[early_stopp],\\n)\";\n",
       "                var nbb_formatted_code = \"history = model.fit(\\n    train_generator,\\n    validation_data=valid_generator,\\n    epochs=100,\\n    callbacks=[early_stopp],\\n)\";\n",
       "                var nbb_cells = Jupyter.notebook.get_cells();\n",
       "                for (var i = 0; i < nbb_cells.length; ++i) {\n",
       "                    if (nbb_cells[i].input_prompt_number == nbb_cell_id) {\n",
       "                        if (nbb_cells[i].get_text() == nbb_unformatted_code) {\n",
       "                             nbb_cells[i].set_text(nbb_formatted_code);\n",
       "                        }\n",
       "                        break;\n",
       "                    }\n",
       "                }\n",
       "            }, 500);\n",
       "            "
      ],
      "text/plain": [
       "<IPython.core.display.Javascript object>"
      ]
     },
     "metadata": {},
     "output_type": "display_data"
    }
   ],
   "source": [
    "history = model.fit(\n",
    "    train_generator,\n",
    "    validation_data=valid_generator,\n",
    "    epochs=100,\n",
    "    callbacks=[early_stopp],\n",
    ")"
   ]
  },
  {
   "cell_type": "code",
   "execution_count": 45,
   "metadata": {},
   "outputs": [
    {
     "data": {
      "application/javascript": [
       "\n",
       "            setTimeout(function() {\n",
       "                var nbb_cell_id = 45;\n",
       "                var nbb_unformatted_code = \"# pd.DataFrame(history.history)[[\\\"loss\\\", \\\"val_loss\\\"]].plot(figsize=(10, 6))\";\n",
       "                var nbb_formatted_code = \"# pd.DataFrame(history.history)[[\\\"loss\\\", \\\"val_loss\\\"]].plot(figsize=(10, 6))\";\n",
       "                var nbb_cells = Jupyter.notebook.get_cells();\n",
       "                for (var i = 0; i < nbb_cells.length; ++i) {\n",
       "                    if (nbb_cells[i].input_prompt_number == nbb_cell_id) {\n",
       "                        if (nbb_cells[i].get_text() == nbb_unformatted_code) {\n",
       "                             nbb_cells[i].set_text(nbb_formatted_code);\n",
       "                        }\n",
       "                        break;\n",
       "                    }\n",
       "                }\n",
       "            }, 500);\n",
       "            "
      ],
      "text/plain": [
       "<IPython.core.display.Javascript object>"
      ]
     },
     "metadata": {},
     "output_type": "display_data"
    }
   ],
   "source": [
    "# pd.DataFrame(history.history)[[\"loss\", \"val_loss\"]].plot(figsize=(10, 6))"
   ]
  },
  {
   "cell_type": "code",
   "execution_count": 46,
   "metadata": {},
   "outputs": [
    {
     "data": {
      "text/plain": [
       "<AxesSubplot:>"
      ]
     },
     "execution_count": 46,
     "metadata": {},
     "output_type": "execute_result"
    },
    {
     "data": {
      "image/png": "[encoded data removed]",
      "text/plain": [
       "<Figure size 720x432 with 1 Axes>"
      ]
     },
     "metadata": {
      "needs_background": "light"
     },
     "output_type": "display_data"
    },
    {
     "data": {
      "application/javascript": [
       "\n",
       "            setTimeout(function() {\n",
       "                var nbb_cell_id = 46;\n",
       "                var nbb_unformatted_code = \"pd.DataFrame(history.history)[[\\\"accuracy\\\", \\\"val_accuracy\\\"]].plot(figsize=(10, 6))\";\n",
       "                var nbb_formatted_code = \"pd.DataFrame(history.history)[[\\\"accuracy\\\", \\\"val_accuracy\\\"]].plot(figsize=(10, 6))\";\n",
       "                var nbb_cells = Jupyter.notebook.get_cells();\n",
       "                for (var i = 0; i < nbb_cells.length; ++i) {\n",
       "                    if (nbb_cells[i].input_prompt_number == nbb_cell_id) {\n",
       "                        if (nbb_cells[i].get_text() == nbb_unformatted_code) {\n",
       "                             nbb_cells[i].set_text(nbb_formatted_code);\n",
       "                        }\n",
       "                        break;\n",
       "                    }\n",
       "                }\n",
       "            }, 500);\n",
       "            "
      ],
      "text/plain": [
       "<IPython.core.display.Javascript object>"
      ]
     },
     "metadata": {},
     "output_type": "display_data"
    }
   ],
   "source": [
    "pd.DataFrame(history.history)[[\"accuracy\", \"val_accuracy\"]].plot(figsize=(10, 6))"
   ]
  },
  {
   "cell_type": "code",
   "execution_count": null,
   "metadata": {},
   "outputs": [],
   "source": []
  },
  {
   "cell_type": "code",
   "execution_count": null,
   "metadata": {},
   "outputs": [],
   "source": []
  },
  {
   "cell_type": "code",
   "execution_count": null,
   "metadata": {},
   "outputs": [],
   "source": []
  },
  {
   "cell_type": "code",
   "execution_count": null,
   "metadata": {},
   "outputs": [],
   "source": []
  },
  {
   "cell_type": "code",
   "execution_count": 47,
   "metadata": {},
   "outputs": [
    {
     "name": "stdout",
     "output_type": "stream",
     "text": [
      "Found 3360 images belonging to 1 classes.\n"
     ]
    },
    {
     "data": {
      "application/javascript": [
       "\n",
       "            setTimeout(function() {\n",
       "                var nbb_cell_id = 47;\n",
       "                var nbb_unformatted_code = \"df_test = pd.read_csv(\\\"data/test.csv\\\")\\ntest_dir = os.path.join(\\\"Input/test/\\\")\\n\\ntest_datagen = ImageDataGenerator(rescale=1.0 / 255)\\ntest_generator = test_datagen.flow_from_directory(\\n    test_dir, target_size=(32, 32), shuffle=False\\n)\\n\\ny_preds_classes = np.argmax(model.predict(test_generator), axis=-1)\\ny_preds_classes\\n\\nkeys = list(map(int, train_generator.class_indices.keys()))\\nvals = list(map(int, train_generator.class_indices.values()))\\n\\n# creating a dict\\ndict_vals = dict()\\nfor i in range(len(keys)):\\n    dict_vals[vals[i]] = keys[i]\\n    \\ny_preds_classes = list(y_preds_classes)\\ny_preds_classes = list(map(lambda x: dict_vals[x], y_preds_classes))\\ndf_test[\\\"label\\\"] = y_preds_classes\\ndf_test[\\\"id\\\"] = df_test.id.apply(lambda x: f\\\"{x:05.0f}\\\").astype(str)\\ndf_test = df_test[[\\\"id\\\", \\\"label\\\"]]\\ndf_test.set_index(\\\"id\\\").to_csv(\\\"sub1.csv\\\")\";\n",
       "                var nbb_formatted_code = \"df_test = pd.read_csv(\\\"data/test.csv\\\")\\ntest_dir = os.path.join(\\\"Input/test/\\\")\\n\\ntest_datagen = ImageDataGenerator(rescale=1.0 / 255)\\ntest_generator = test_datagen.flow_from_directory(\\n    test_dir, target_size=(32, 32), shuffle=False\\n)\\n\\ny_preds_classes = np.argmax(model.predict(test_generator), axis=-1)\\ny_preds_classes\\n\\nkeys = list(map(int, train_generator.class_indices.keys()))\\nvals = list(map(int, train_generator.class_indices.values()))\\n\\n# creating a dict\\ndict_vals = dict()\\nfor i in range(len(keys)):\\n    dict_vals[vals[i]] = keys[i]\\n\\ny_preds_classes = list(y_preds_classes)\\ny_preds_classes = list(map(lambda x: dict_vals[x], y_preds_classes))\\ndf_test[\\\"label\\\"] = y_preds_classes\\ndf_test[\\\"id\\\"] = df_test.id.apply(lambda x: f\\\"{x:05.0f}\\\").astype(str)\\ndf_test = df_test[[\\\"id\\\", \\\"label\\\"]]\\ndf_test.set_index(\\\"id\\\").to_csv(\\\"sub1.csv\\\")\";\n",
       "                var nbb_cells = Jupyter.notebook.get_cells();\n",
       "                for (var i = 0; i < nbb_cells.length; ++i) {\n",
       "                    if (nbb_cells[i].input_prompt_number == nbb_cell_id) {\n",
       "                        if (nbb_cells[i].get_text() == nbb_unformatted_code) {\n",
       "                             nbb_cells[i].set_text(nbb_formatted_code);\n",
       "                        }\n",
       "                        break;\n",
       "                    }\n",
       "                }\n",
       "            }, 500);\n",
       "            "
      ],
      "text/plain": [
       "<IPython.core.display.Javascript object>"
      ]
     },
     "metadata": {},
     "output_type": "display_data"
    }
   ],
   "source": [
    "df_test = pd.read_csv(\"data/test.csv\")\n",
    "test_dir = os.path.join(\"Input/test/\")\n",
    "\n",
    "test_datagen = ImageDataGenerator(rescale=1.0 / 255)\n",
    "test_generator = test_datagen.flow_from_directory(\n",
    "    test_dir, target_size=(32, 32), shuffle=False\n",
    ")\n",
    "\n",
    "y_preds_classes = np.argmax(model.predict(test_generator), axis=-1)\n",
    "y_preds_classes\n",
    "\n",
    "keys = list(map(int, train_generator.class_indices.keys()))\n",
    "vals = list(map(int, train_generator.class_indices.values()))\n",
    "\n",
    "# creating a dict\n",
    "dict_vals = dict()\n",
    "for i in range(len(keys)):\n",
    "    dict_vals[vals[i]] = keys[i]\n",
    "\n",
    "y_preds_classes = list(y_preds_classes)\n",
    "y_preds_classes = list(map(lambda x: dict_vals[x], y_preds_classes))\n",
    "df_test[\"label\"] = y_preds_classes\n",
    "df_test[\"id\"] = df_test.id.apply(lambda x: f\"{x:05.0f}\").astype(str)\n",
    "df_test = df_test[[\"id\", \"label\"]]\n",
    "df_test.set_index(\"id\").to_csv(\"sub1.csv\")"
   ]
  },
  {
   "cell_type": "code",
   "execution_count": null,
   "metadata": {
    "scrolled": false
   },
   "outputs": [],
   "source": []
  },
  {
   "cell_type": "code",
   "execution_count": null,
   "metadata": {},
   "outputs": [],
   "source": []
  },
  {
   "cell_type": "code",
   "execution_count": null,
   "metadata": {},
   "outputs": [],
   "source": []
  },
  {
   "cell_type": "code",
   "execution_count": null,
   "metadata": {},
   "outputs": [],
   "source": []
  },
  {
   "cell_type": "code",
   "execution_count": null,
   "metadata": {},
   "outputs": [],
   "source": []
  },
  {
   "cell_type": "code",
   "execution_count": null,
   "metadata": {},
   "outputs": [],
   "source": []
  },
  {
   "cell_type": "code",
   "execution_count": null,
   "metadata": {
    "code_folding": []
   },
   "outputs": [],
   "source": []
  },
  {
   "cell_type": "code",
   "execution_count": null,
   "metadata": {},
   "outputs": [],
   "source": []
  },
  {
   "cell_type": "code",
   "execution_count": null,
   "metadata": {},
   "outputs": [],
   "source": []
  },
  {
   "cell_type": "code",
   "execution_count": null,
   "metadata": {},
   "outputs": [],
   "source": []
  },
  {
   "cell_type": "code",
   "execution_count": null,
   "metadata": {},
   "outputs": [],
   "source": []
  },
  {
   "cell_type": "code",
   "execution_count": null,
   "metadata": {},
   "outputs": [],
   "source": []
  },
  {
   "cell_type": "code",
   "execution_count": null,
   "metadata": {},
   "outputs": [],
   "source": []
  },
  {
   "cell_type": "code",
   "execution_count": null,
   "metadata": {},
   "outputs": [],
   "source": []
  }
 ],
 "metadata": {
  "kernelspec": {
   "display_name": "Python 3 (ipykernel)",
   "language": "python",
   "name": "python3"
  },
  "language_info": {
   "codemirror_mode": {
    "name": "ipython",
    "version": 3
   },
   "file_extension": ".py",
   "mimetype": "text/x-python",
   "name": "python",
   "nbconvert_exporter": "python",
   "pygments_lexer": "ipython3",
   "version": "3.9.7"
  }
 },
 "nbformat": 4,
 "nbformat_minor": 4
}
